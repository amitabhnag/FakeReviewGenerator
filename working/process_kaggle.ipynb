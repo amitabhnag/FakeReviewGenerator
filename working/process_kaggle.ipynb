{
 "cells": [
  {
   "cell_type": "code",
   "execution_count": 3,
   "metadata": {},
   "outputs": [],
   "source": [
    "import pandas as pd\n",
    "import sqlite3\n",
    "import os.path\n",
    "\n",
    "def create_dataframe(db_path):\n",
    "    if not os.path.exists(db_path):\n",
    "        raise ValueError(\"Invalid Path\")\n",
    "    else:\n",
    "        conn = sqlite3.connect(db_path)\n",
    "        df = pd.read_sql_query(\"\"\"\n",
    "        SELECT *\n",
    "        FROM content\n",
    "        \"\"\", conn)\n",
    "        return df\n",
    "    \n",
    "content = create_dataframe('../database.sqlite')"
   ]
  },
  {
   "cell_type": "code",
   "execution_count": 8,
   "metadata": {},
   "outputs": [],
   "source": [
    "save = ''\n",
    "for _, row in content.iterrows():\n",
    "    save += row.content.replace('\\xa0', ' ')"
   ]
  },
  {
   "cell_type": "code",
   "execution_count": 9,
   "metadata": {},
   "outputs": [],
   "source": [
    "with open('kaggle_pitchfork.txt', 'wt') as f:\n",
    "    f.write(save)"
   ]
  },
  {
   "cell_type": "code",
   "execution_count": null,
   "metadata": {},
   "outputs": [],
   "source": []
  }
 ],
 "metadata": {
  "kernelspec": {
   "display_name": "Python 3",
   "language": "python",
   "name": "python3"
  },
  "language_info": {
   "codemirror_mode": {
    "name": "ipython",
    "version": 3
   },
   "file_extension": ".py",
   "mimetype": "text/x-python",
   "name": "python",
   "nbconvert_exporter": "python",
   "pygments_lexer": "ipython3",
   "version": "3.6.4"
  }
 },
 "nbformat": 4,
 "nbformat_minor": 2
}
